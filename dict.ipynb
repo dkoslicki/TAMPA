{
 "cells": [
  {
   "cell_type": "code",
   "execution_count": 1,
   "id": "f6b2d888",
   "metadata": {},
   "outputs": [],
   "source": [
    "# https://datascience.stackexchange.com/questions/32328/export-pandas-to-dictionary-by-combining-multiple-row-values"
   ]
  },
  {
   "cell_type": "code",
   "execution_count": 16,
   "id": "12189dc9",
   "metadata": {},
   "outputs": [],
   "source": [
    "import numpy as np"
   ]
  },
  {
   "cell_type": "code",
   "execution_count": 17,
   "id": "38ef6a78",
   "metadata": {},
   "outputs": [],
   "source": [
    "import pandas as pd"
   ]
  },
  {
   "cell_type": "code",
   "execution_count": 58,
   "id": "bd354c91",
   "metadata": {},
   "outputs": [],
   "source": [
    "df_tools=pd.read_csv(\"codes\",names=[\"codes\"])\n",
    "df_tools[\"tools\"]=pd.read_csv(\"tools\",names=[\"tools\"])"
   ]
  },
  {
   "cell_type": "code",
   "execution_count": 60,
   "id": "45166b49",
   "metadata": {},
   "outputs": [],
   "source": [
    "df_tools=df_tools.drop_duplicates(subset=['codes'])"
   ]
  },
  {
   "cell_type": "code",
   "execution_count": 63,
   "id": "09f02bf8",
   "metadata": {},
   "outputs": [],
   "source": [
    "stocks = df_tools['codes'].to_list()\n",
    "prices = df_tools['tools'].to_list()\n"
   ]
  },
  {
   "cell_type": "code",
   "execution_count": 65,
   "id": "200d34a8",
   "metadata": {},
   "outputs": [],
   "source": [
    "new_dict = {stocks: prices for stocks, prices in zip(stocks, prices)}"
   ]
  },
  {
   "cell_type": "code",
   "execution_count": 67,
   "id": "6bef5510",
   "metadata": {},
   "outputs": [
    {
     "data": {
      "text/plain": [
       "'commonkmers'"
      ]
     },
     "execution_count": 67,
     "metadata": {},
     "output_type": "execute_result"
    }
   ],
   "source": [
    "new_dict['thirsty_shockley_6']"
   ]
  }
 ],
 "metadata": {
  "kernelspec": {
   "display_name": "Python 3 (ipykernel)",
   "language": "python",
   "name": "python3"
  },
  "language_info": {
   "codemirror_mode": {
    "name": "ipython",
    "version": 3
   },
   "file_extension": ".py",
   "mimetype": "text/x-python",
   "name": "python",
   "nbconvert_exporter": "python",
   "pygments_lexer": "ipython3",
   "version": "3.8.5"
  }
 },
 "nbformat": 4,
 "nbformat_minor": 5
}
